{
 "cells": [
  {
   "cell_type": "markdown",
   "id": "8d70e851",
   "metadata": {},
   "source": [
    "# Question 1"
   ]
  },
  {
   "cell_type": "code",
   "execution_count": 1,
   "id": "f670a9d5",
   "metadata": {},
   "outputs": [],
   "source": [
    "a = 0\n",
    "\n",
    "def b():\n",
    "    \n",
    " global a\n",
    " a = c(a)\n",
    "    \n",
    "def c(a):\n",
    " return a + 2"
   ]
  },
  {
   "cell_type": "code",
   "execution_count": 2,
   "id": "4a6af9a3",
   "metadata": {},
   "outputs": [
    {
     "data": {
      "text/plain": [
       "6"
      ]
     },
     "execution_count": 2,
     "metadata": {},
     "output_type": "execute_result"
    }
   ],
   "source": [
    "b()\n",
    "b()\n",
    "b()\n",
    "a"
   ]
  },
  {
   "cell_type": "markdown",
   "id": "bd79fe11",
   "metadata": {},
   "source": [
    "When we run \"b()\" it calls the function b() and in there, \"a=c(a)\" calls c(a) function which return a=a+2. Initially a is 0. So, when we call it the first time, the value of a becomes 0=0+2 which a=2. Second time, 2=2+2 so a is 4 and third time, 4=4+2 which is a=6. So, when we print the value of a, it prints 6."
   ]
  },
  {
   "cell_type": "markdown",
   "id": "5815f4b4",
   "metadata": {},
   "source": [
    "# Question 2"
   ]
  },
  {
   "cell_type": "code",
   "execution_count": 3,
   "id": "65806797",
   "metadata": {},
   "outputs": [],
   "source": [
    "def fileLength(file_name):\n",
    "    try:\n",
    "        file = open(file_name)  # It is to open the file\n",
    "        contents = file.read()  # To read its content\n",
    "        file.close()  # To close the file\n",
    "        print(len(contents))  # To print the length\n",
    "    except FileNotFoundError:\n",
    "        # Error message if the file is not found\n",
    "        print(f\"File {file_name} not found.\")\n"
   ]
  },
  {
   "cell_type": "code",
   "execution_count": 4,
   "id": "4c5298d3",
   "metadata": {},
   "outputs": [
    {
     "name": "stdout",
     "output_type": "stream",
     "text": [
      "File midterm.py not found.\n"
     ]
    }
   ],
   "source": [
    "fileLength('midterm.py')"
   ]
  },
  {
   "cell_type": "code",
   "execution_count": 5,
   "id": "0420d0ce",
   "metadata": {},
   "outputs": [
    {
     "name": "stdout",
     "output_type": "stream",
     "text": [
      "14912\n"
     ]
    }
   ],
   "source": [
    "fileLength('Problem Set 2.ipynb')"
   ]
  },
  {
   "cell_type": "markdown",
   "id": "92b33b32",
   "metadata": {},
   "source": [
    "# Question 3"
   ]
  },
  {
   "cell_type": "code",
   "execution_count": 6,
   "id": "927b4b82",
   "metadata": {},
   "outputs": [],
   "source": [
    "class Marsupial:\n",
    "    def __init__(self):\n",
    "        self.pouch = []  # TO initialize an empty list\n",
    "    \n",
    "    def put_in_pouch(self, item):\n",
    "        self.pouch.append(item)  # To add the item \n",
    "    \n",
    "    def pouch_contents(self):\n",
    "        return self.pouch  # To return the list\n",
    "\n",
    "class Kangaroo(Marsupial):\n",
    "    def __init__(self, x, y):\n",
    "        super().__init__()  # To initialize the Marsupial part of the Kangaroo\n",
    "        self.x = x  # To set the initial x coordinate\n",
    "        self.y = y  # To set the initial y coordinate\n",
    "    \n",
    "    def jump(self, dx, dy):\n",
    "        self.x += dx  # To move dx units along the x-axis\n",
    "        self.y += dy  # To move dy units along the y-axis\n",
    "    \n",
    "    def __str__(self):\n",
    "        return f\"I am a Kangaroo located at coordinates ({self.x},{self.y})\"\n"
   ]
  },
  {
   "cell_type": "code",
   "execution_count": 7,
   "id": "27175998",
   "metadata": {},
   "outputs": [
    {
     "data": {
      "text/plain": [
       "['doll', 'firetruck', 'kitten']"
      ]
     },
     "execution_count": 7,
     "metadata": {},
     "output_type": "execute_result"
    }
   ],
   "source": [
    "m = Marsupial()\n",
    "m.put_in_pouch('doll')\n",
    "m.put_in_pouch('firetruck')\n",
    "m.put_in_pouch('kitten')\n",
    "m.pouch_contents()"
   ]
  },
  {
   "cell_type": "code",
   "execution_count": 8,
   "id": "30e6d5bd",
   "metadata": {},
   "outputs": [
    {
     "name": "stdout",
     "output_type": "stream",
     "text": [
      "I am a Kangaroo located at coordinates (0,0)\n"
     ]
    }
   ],
   "source": [
    "k = Kangaroo(0,0)\n",
    "print(k)"
   ]
  },
  {
   "cell_type": "code",
   "execution_count": 9,
   "id": "ceb9491f",
   "metadata": {},
   "outputs": [
    {
     "data": {
      "text/plain": [
       "['doll', 'firetruck', 'kitten']"
      ]
     },
     "execution_count": 9,
     "metadata": {},
     "output_type": "execute_result"
    }
   ],
   "source": [
    "k.put_in_pouch('doll')\n",
    "k.put_in_pouch('firetruck')\n",
    "k.put_in_pouch('kitten')\n",
    "k.pouch_contents()"
   ]
  },
  {
   "cell_type": "code",
   "execution_count": 10,
   "id": "92dc956d",
   "metadata": {},
   "outputs": [
    {
     "name": "stdout",
     "output_type": "stream",
     "text": [
      "I am a Kangaroo located at coordinates (3,0)\n"
     ]
    }
   ],
   "source": [
    "k.jump(1,0)\n",
    "k.jump(1,0)\n",
    "k.jump(1,0)\n",
    "print(k)"
   ]
  },
  {
   "cell_type": "markdown",
   "id": "63329441",
   "metadata": {},
   "source": [
    "# Question 4"
   ]
  },
  {
   "cell_type": "code",
   "execution_count": 11,
   "id": "a1404d6a",
   "metadata": {},
   "outputs": [],
   "source": [
    "def collatz(x):\n",
    "    print(x)  # To print the value\n",
    "    if x == 1:\n",
    "        return  # If x is 1 then finish the sequence\n",
    "    elif x % 2 == 0:\n",
    "        collatz(x // 2)  # If x is even, do x/2\n",
    "    else:\n",
    "        collatz(3 * x + 1)  # If x is odd, do 3x + 1"
   ]
  },
  {
   "cell_type": "code",
   "execution_count": 12,
   "id": "e0d130a6",
   "metadata": {},
   "outputs": [
    {
     "name": "stdout",
     "output_type": "stream",
     "text": [
      "1\n"
     ]
    }
   ],
   "source": [
    "collatz(1)"
   ]
  },
  {
   "cell_type": "code",
   "execution_count": 13,
   "id": "e7f71a66",
   "metadata": {},
   "outputs": [
    {
     "name": "stdout",
     "output_type": "stream",
     "text": [
      "10\n",
      "5\n",
      "16\n",
      "8\n",
      "4\n",
      "2\n",
      "1\n"
     ]
    }
   ],
   "source": [
    "collatz(10)"
   ]
  },
  {
   "cell_type": "markdown",
   "id": "1814ba6b",
   "metadata": {},
   "source": [
    "# Question 5"
   ]
  },
  {
   "cell_type": "code",
   "execution_count": 14,
   "id": "02424e08",
   "metadata": {},
   "outputs": [],
   "source": [
    "def binary(n):\n",
    "    if n < 2:\n",
    "        # To print the base value\n",
    "        print(n, end='')\n",
    "    else:\n",
    "        # Divide n by 2 and find the binary of the quotient\n",
    "        binary(n // 2)\n",
    "        # To print the remainder of n divided by 2\n",
    "        print(n % 2, end='')"
   ]
  },
  {
   "cell_type": "code",
   "execution_count": 15,
   "id": "b7e21701",
   "metadata": {},
   "outputs": [
    {
     "name": "stdout",
     "output_type": "stream",
     "text": [
      "0"
     ]
    }
   ],
   "source": [
    "binary(0)"
   ]
  },
  {
   "cell_type": "code",
   "execution_count": 16,
   "id": "9f07918d",
   "metadata": {},
   "outputs": [
    {
     "name": "stdout",
     "output_type": "stream",
     "text": [
      "1"
     ]
    }
   ],
   "source": [
    "binary(1)"
   ]
  },
  {
   "cell_type": "code",
   "execution_count": 17,
   "id": "7bfa58a1",
   "metadata": {},
   "outputs": [
    {
     "name": "stdout",
     "output_type": "stream",
     "text": [
      "11"
     ]
    }
   ],
   "source": [
    "binary(3)"
   ]
  },
  {
   "cell_type": "code",
   "execution_count": 18,
   "id": "c1fbb2c7",
   "metadata": {},
   "outputs": [
    {
     "name": "stdout",
     "output_type": "stream",
     "text": [
      "1001"
     ]
    }
   ],
   "source": [
    "binary(9)"
   ]
  },
  {
   "cell_type": "markdown",
   "id": "de6b768c",
   "metadata": {},
   "source": [
    "# Question 6"
   ]
  },
  {
   "cell_type": "code",
   "execution_count": 19,
   "id": "cf2e70a8",
   "metadata": {},
   "outputs": [],
   "source": [
    "from html.parser import HTMLParser\n",
    "\n",
    "class SimpleHeadingParser(HTMLParser):\n",
    "    def __init__(self):\n",
    "        super().__init__()\n",
    "        self.current_tag = None \n",
    "\n",
    "    def handle_starttag(self, tag, attrs):\n",
    "        if tag in [\"h1\", \"h2\", \"h3\", \"h4\", \"h5\", \"h6\"]:\n",
    "            self.current_tag = tag\n",
    "\n",
    "    def handle_endtag(self, tag):\n",
    "        if tag == self.current_tag:\n",
    "            self.current_tag = None\n",
    "\n",
    "    def handle_data(self, data):\n",
    "        if self.current_tag in [\"h1\", \"h2\", \"h3\", \"h4\", \"h5\", \"h6\"]:\n",
    "            indent = int(self.current_tag[1]) - 1\n",
    "            print(' ' * indent + data)\n",
    "\n",
    "def simple_parse_headings(file_path):\n",
    "    with open(file_path, 'r') as infile:\n",
    "        content = infile.read()\n",
    "\n",
    "    hp = SimpleHeadingParser()\n",
    "    hp.feed(content)     "
   ]
  },
  {
   "cell_type": "code",
   "execution_count": 20,
   "id": "4a251241",
   "metadata": {},
   "outputs": [
    {
     "name": "stdout",
     "output_type": "stream",
     "text": [
      "W3C Mission\n",
      " Principles\n"
     ]
    }
   ],
   "source": [
    "simple_parse_headings('w3c.txt')"
   ]
  },
  {
   "cell_type": "markdown",
   "id": "338c8b39",
   "metadata": {},
   "source": [
    "# Question 7"
   ]
  },
  {
   "cell_type": "code",
   "execution_count": 21,
   "id": "a6b46efe",
   "metadata": {},
   "outputs": [],
   "source": [
    "import requests\n",
    "from bs4 import BeautifulSoup\n",
    "\n",
    "def webdir(url, depth, indent):\n",
    "    if depth < 0:\n",
    "        return\n",
    "    print(' ' * indent + url)\n",
    "    try:\n",
    "        response = requests.get(url)        \n",
    "        if response.status_code != 200:\n",
    "            return\n",
    "        \n",
    "        soup = BeautifulSoup(response.text, 'html.parser')\n",
    "        \n",
    "        for link in soup.find_all('a'):\n",
    "            href = link.get('href')\n",
    "           \n",
    "            if href and depth > 0:\n",
    "                webdir(href, depth - 1, indent + 1)\n",
    "    except Exception as e:\n",
    "        \n",
    "        print('Failed to fetch URL:', url, 'Error:', e)"
   ]
  },
  {
   "cell_type": "code",
   "execution_count": 22,
   "id": "6003d076",
   "metadata": {},
   "outputs": [
    {
     "name": "stdout",
     "output_type": "stream",
     "text": [
      "http://reed.cs.depaul.edu/lperkovic/csc242/test1.html\n"
     ]
    }
   ],
   "source": [
    "webdir('http://reed.cs.depaul.edu/lperkovic/csc242/test1.html', 2, 0)"
   ]
  },
  {
   "cell_type": "markdown",
   "id": "08530c31",
   "metadata": {},
   "source": [
    "# Question 8"
   ]
  },
  {
   "cell_type": "raw",
   "id": "45fdf8c9",
   "metadata": {},
   "source": [
    "A. SELECT Temperature FROM database_table;\n",
    "B. SELECT DISTINCT City FROM database_table;\n",
    "C. SELECT * FROM database_table WHERE Country = 'India';\n",
    "D. SELECT * FROM database_table WHERE Season = 'Fall';\n",
    "E. SELECT City, Country, Season FROM database_table WHERE Rainfall BETWEEN 200 AND 400;\n",
    "F. SELECT City, Country FROM database_table WHERE Season = 'Fall' AND Temperature > 20 ORDER BY Temperature;\n",
    "G. SELECT SUM(Rainfall) AS Total_Annual_Rainfall FROM database_table WHERE City = 'Cairo';\n",
    "H. SELECT Season, SUM(Rainfall) AS Total_Rainfall FROM database_table GROUP BY Season;"
   ]
  },
  {
   "cell_type": "markdown",
   "id": "3d6518c2",
   "metadata": {},
   "source": [
    "# Question 9"
   ]
  },
  {
   "cell_type": "code",
   "execution_count": 23,
   "id": "b0b62cd2",
   "metadata": {},
   "outputs": [],
   "source": [
    "words = ['The', 'quick', 'brown', 'fox', 'jumps', 'over', 'the', 'lazy', 'dog']"
   ]
  },
  {
   "cell_type": "code",
   "execution_count": 24,
   "id": "ff866f2b",
   "metadata": {},
   "outputs": [
    {
     "name": "stdout",
     "output_type": "stream",
     "text": [
      "['THE', 'QUICK', 'BROWN', 'FOX', 'JUMPS', 'OVER', 'THE', 'LAZY', 'DOG']\n"
     ]
    }
   ],
   "source": [
    "#a\n",
    "words_uppercase = [word.upper() for word in words]\n",
    "print(words_uppercase)"
   ]
  },
  {
   "cell_type": "code",
   "execution_count": 25,
   "id": "a14dd908",
   "metadata": {},
   "outputs": [
    {
     "name": "stdout",
     "output_type": "stream",
     "text": [
      "['the', 'quick', 'brown', 'fox', 'jumps', 'over', 'the', 'lazy', 'dog']\n"
     ]
    }
   ],
   "source": [
    "#b\n",
    "words_lowercase = [word.lower() for word in words]\n",
    "print(words_lowercase)"
   ]
  },
  {
   "cell_type": "code",
   "execution_count": 26,
   "id": "53aa61af",
   "metadata": {},
   "outputs": [
    {
     "name": "stdout",
     "output_type": "stream",
     "text": [
      "[3, 5, 5, 3, 5, 4, 3, 4, 3]\n"
     ]
    }
   ],
   "source": [
    "#c\n",
    "words_length = [len(word) for word in words]\n",
    "print(words_length)"
   ]
  },
  {
   "cell_type": "code",
   "execution_count": 27,
   "id": "ba91b4a2",
   "metadata": {},
   "outputs": [
    {
     "name": "stdout",
     "output_type": "stream",
     "text": [
      "[['THE', 'the', 3], ['QUICK', 'quick', 5], ['BROWN', 'brown', 5], ['FOX', 'fox', 3], ['JUMPS', 'jumps', 5], ['OVER', 'over', 4], ['THE', 'the', 3], ['LAZY', 'lazy', 4], ['DOG', 'dog', 3]]\n"
     ]
    }
   ],
   "source": [
    "#d\n",
    "words_detailed = [[word.upper(), word.lower(), len(word)] for word in words]\n",
    "print(words_detailed)"
   ]
  },
  {
   "cell_type": "code",
   "execution_count": 28,
   "id": "7f98848c",
   "metadata": {},
   "outputs": [
    {
     "name": "stdout",
     "output_type": "stream",
     "text": [
      "['quick', 'brown', 'jumps', 'over', 'lazy']\n"
     ]
    }
   ],
   "source": [
    "#e\n",
    "words_four_or_more = [word for word in words if len(word) >= 4]\n",
    "print(words_four_or_more)"
   ]
  }
 ],
 "metadata": {
  "kernelspec": {
   "display_name": "Python 3 (ipykernel)",
   "language": "python",
   "name": "python3"
  },
  "language_info": {
   "codemirror_mode": {
    "name": "ipython",
    "version": 3
   },
   "file_extension": ".py",
   "mimetype": "text/x-python",
   "name": "python",
   "nbconvert_exporter": "python",
   "pygments_lexer": "ipython3",
   "version": "3.11.5"
  }
 },
 "nbformat": 4,
 "nbformat_minor": 5
}
